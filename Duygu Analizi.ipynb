{
 "cells": [
  {
   "cell_type": "code",
   "execution_count": 2,
   "metadata": {},
   "outputs": [],
   "source": [
    "import pandas as pd\n",
    "import numpy as np\n",
    "import seaborn as sns\n",
    "import matplotlib.pyplot as plt\n",
    "from scipy import stats\n",
    "\n",
    "from keras.datasets import imdb\n",
    "from keras.preprocessing.sequence import pad_sequences\n",
    "from keras.models import Sequential\n",
    "from keras.layers.embeddings import Embedding\n",
    "from keras.layers import SimpleRNN, Dense, Activation\n",
    "\n",
    "import warnings\n",
    "warnings.filterwarnings('ignore')"
   ]
  },
  {
   "cell_type": "code",
   "execution_count": 4,
   "metadata": {},
   "outputs": [],
   "source": [
    "# veriyi içi aktar\n",
    "(X_train,Y_train),(X_test,Y_test)  = imdb.load_data(path=\"ibdb.npz\",\n",
    "                                                    num_words = None,\n",
    "                                                    skip_top=0,\n",
    "                                                    seed=113,\n",
    "                                                    start_char=1,\n",
    "                                                    oov_char = 2,\n",
    "                                                    index_from = 3)\n",
    "#num words : kelime sayısı\n",
    "                                                   "
   ]
  },
  {
   "cell_type": "code",
   "execution_count": 5,
   "metadata": {},
   "outputs": [
    {
     "name": "stdout",
     "output_type": "stream",
     "text": [
      "X eğitim tipi :  <class 'numpy.ndarray'>\n",
      "Y eğitim tipi :  <class 'numpy.ndarray'>\n"
     ]
    }
   ],
   "source": [
    "# verinin tipine bakalım \n",
    "print(\"X eğitim tipi : \" ,type(X_train))\n",
    "print(\"Y eğitim tipi : \" ,type(Y_train))"
   ]
  },
  {
   "cell_type": "code",
   "execution_count": 6,
   "metadata": {},
   "outputs": [
    {
     "name": "stdout",
     "output_type": "stream",
     "text": [
      "X eğitim şekli :  (25000,)\n",
      "Y eğitim şekli :  (25000,)\n"
     ]
    }
   ],
   "source": [
    "#verinin şekli\n",
    "print(\"X eğitim şekli : \" ,X_train.shape)\n",
    "print(\"Y eğitim şekli : \" , Y_train.shape)"
   ]
  },
  {
   "cell_type": "code",
   "execution_count": 7,
   "metadata": {},
   "outputs": [
    {
     "name": "stdout",
     "output_type": "stream",
     "text": [
      "Y eğitim değerleri :  [0 1]\n",
      "Y test değerleri :  [0 1]\n"
     ]
    }
   ],
   "source": [
    "#kaç tane etiket var\n",
    "print(\"Y eğitim değerleri : \",np.unique(Y_train))\n",
    "print(\"Y test değerleri : \",np.unique(Y_test))"
   ]
  },
  {
   "cell_type": "code",
   "execution_count": 8,
   "metadata": {},
   "outputs": [
    {
     "name": "stdout",
     "output_type": "stream",
     "text": [
      "Y eğitim dağılımı :  {0: 12500, 1: 12500}\n"
     ]
    }
   ],
   "source": [
    "#eğitim  veri setinin dağılımına bakalım\n",
    "unique , counts = np.unique(Y_train, return_counts= True )\n",
    "print(\"Y eğitim dağılımı : \",dict(zip(unique,counts)))"
   ]
  },
  {
   "cell_type": "code",
   "execution_count": 10,
   "metadata": {},
   "outputs": [
    {
     "name": "stdout",
     "output_type": "stream",
     "text": [
      "Y test dağılımı :  {0: 12500, 1: 12500}\n"
     ]
    }
   ],
   "source": [
    "#test veri setinin dağılımına bakalım\n",
    "unique , counts = np.unique(Y_test, return_counts= True )\n",
    "print(\"Y test dağılımı : \",dict(zip(unique,counts)))\n",
    "#return_counts= True kaç adet var"
   ]
  },
  {
   "cell_type": "code",
   "execution_count": 13,
   "metadata": {},
   "outputs": [
    {
     "data": {
      "image/png": "[encoded data removed]",
      "text/plain": [
       "<Figure size 432x288 with 1 Axes>"
      ]
     },
     "metadata": {},
     "output_type": "display_data"
    }
   ],
   "source": [
    "plt.figure()\n",
    "sns.countplot(Y_train)\n",
    "plt.xlabel(\"Sınıflar\")\n",
    "plt.ylabel(\"Frekans\")\n",
    "plt.title(\"Y eğitim\")\n",
    "plt.show()"
   ]
  },
  {
   "cell_type": "code",
   "execution_count": 14,
   "metadata": {},
   "outputs": [
    {
     "data": {
      "image/png": "[encoded data removed]",
      "text/plain": [
       "<Figure size 432x288 with 1 Axes>"
      ]
     },
     "metadata": {},
     "output_type": "display_data"
    }
   ],
   "source": [
    "plt.figure()\n",
    "sns.countplot(Y_test)\n",
    "plt.xlabel(\"Sınıflar\")\n",
    "plt.ylabel(\"Frekans\")\n",
    "plt.title(\"Y test\")\n",
    "plt.show()"
   ]
  },
  {
   "cell_type": "code",
   "execution_count": 15,
   "metadata": {},
   "outputs": [
    {
     "name": "stdout",
     "output_type": "stream",
     "text": [
      "Yorum : \n",
      "[1, 14, 22, 16, 43, 530, 973, 1622, 1385, 65, 458, 4468, 66, 3941, 4, 173, 36, 256, 5, 25, 100, 43, 838, 112, 50, 670, 22665, 9, 35, 480, 284, 5, 150, 4, 172, 112, 167, 21631, 336, 385, 39, 4, 172, 4536, 1111, 17, 546, 38, 13, 447, 4, 192, 50, 16, 6, 147, 2025, 19, 14, 22, 4, 1920, 4613, 469, 4, 22, 71, 87, 12, 16, 43, 530, 38, 76, 15, 13, 1247, 4, 22, 17, 515, 17, 12, 16, 626, 18, 19193, 5, 62, 386, 12, 8, 316, 8, 106, 5, 4, 2223, 5244, 16, 480, 66, 3785, 33, 4, 130, 12, 16, 38, 619, 5, 25, 124, 51, 36, 135, 48, 25, 1415, 33, 6, 22, 12, 215, 28, 77, 52, 5, 14, 407, 16, 82, 10311, 8, 4, 107, 117, 5952, 15, 256, 4, 31050, 7, 3766, 5, 723, 36, 71, 43, 530, 476, 26, 400, 317, 46, 7, 4, 12118, 1029, 13, 104, 88, 4, 381, 15, 297, 98, 32, 2071, 56, 26, 141, 6, 194, 7486, 18, 4, 226, 22, 21, 134, 476, 26, 480, 5, 144, 30, 5535, 18, 51, 36, 28, 224, 92, 25, 104, 4, 226, 65, 16, 38, 1334, 88, 12, 16, 283, 5, 16, 4472, 113, 103, 32, 15, 16, 5345, 19, 178, 32]\n",
      "Yorum kelime sayısı :  218\n"
     ]
    }
   ],
   "source": [
    "# örnek bir yoruma bakacak olursak\n",
    "yorum = X_train[0]\n",
    "print(\"Yorum : \")\n",
    "print(yorum)\n",
    "print(\"Yorum kelime sayısı : \",len(yorum))"
   ]
  },
  {
   "cell_type": "markdown",
   "metadata": {},
   "source": [
    "Bu sayıların her biri bir kelimeye karşılık geliyor"
   ]
  },
  {
   "cell_type": "code",
   "execution_count": 16,
   "metadata": {},
   "outputs": [
    {
     "name": "stdout",
     "output_type": "stream",
     "text": [
      "Downloading data from https://s3.amazonaws.com/text-datasets/imdb_word_index.json\n",
      "1646592/1641221 [==============================] - 2s 1us/step\n",
      "Kelime sayısı :  88584\n"
     ]
    }
   ],
   "source": [
    "# kelime sayısı\n",
    "word_index = imdb.get_word_index()\n",
    "print(\"Kelime sayısı : \" , len(word_index))"
   ]
  },
  {
   "cell_type": "code",
   "execution_count": 19,
   "metadata": {},
   "outputs": [
    {
     "name": "stdout",
     "output_type": "stream",
     "text": [
      "of\n"
     ]
    }
   ],
   "source": [
    "for keys , values in word_index.items():\n",
    "    if values==4:\n",
    "        print(keys)"
   ]
  },
  {
   "cell_type": "code",
   "execution_count": 36,
   "metadata": {},
   "outputs": [
    {
     "name": "stdout",
     "output_type": "stream",
     "text": [
      "Yorum  :  24\n",
      "# the original demille movie was made in 1938 with frederic march a very good film indeed hollywood's love of remakes brings us a fairly interesting movie starring yul brynner he of course was brilliant as he almost always seemed to be in all of his movies charlton heston as andrew jackson was a stroke of genius however the movie did tend to get a little long in places it does not move at the pace of the 1938 version still it is a fun movie that should be seen at least once\n",
      "\n",
      "Olumlu\n",
      "\n"
     ]
    }
   ],
   "source": [
    "def neSoyledi(index= 24):\n",
    "    ters_index = dict([(value, key) for (key, value) in word_index.items()])\n",
    "    yorumu_coz = \" \".join( [ters_index.get(i - 3, \"#\") for i in X_train[index]])\n",
    "    \n",
    "    print(\"Yorum  : \" ,index)\n",
    "    print(yorumu_coz)\n",
    "    print()\n",
    "    if Y_train[index]==0:\n",
    "        print(\"Olumsuz\")\n",
    "    else:\n",
    "        print(\"Olumlu\")\n",
    "    print()  \n",
    "    \n",
    "neSoyledi()"
   ]
  },
  {
   "cell_type": "code",
   "execution_count": 37,
   "metadata": {},
   "outputs": [
    {
     "name": "stdout",
     "output_type": "stream",
     "text": [
      "Yorum  :  36\n",
      "# sorry i just didn't find the subject matter as compelling as the filmmaker did the robot guy and the mole rat guy were pretty interesting although morris didn't really tell us much about them the other two subjects were a bore and the supposed connections between them didn't hold up\n",
      "\n",
      "Olumsuz\n",
      "\n"
     ]
    }
   ],
   "source": [
    "neSoyledi(36)"
   ]
  },
  {
   "cell_type": "markdown",
   "metadata": {},
   "source": [
    "Veri Ön İşleme"
   ]
  },
  {
   "cell_type": "markdown",
   "metadata": {},
   "source": [
    "En çok kullanılan 15.000 kelime ile sınırlandıralım.\n",
    "\n",
    "Tekrarlanan sinir ağı girdi sayısını belirleyelim.(Bir yorumun kaç kelime olacağı)"
   ]
  },
  {
   "cell_type": "code",
   "execution_count": 41,
   "metadata": {},
   "outputs": [],
   "source": [
    "# en çok kullanılan 15000 kelime ile işlem yapalım\n",
    "num_words=15000\n",
    "(X_train,Y_train),(X_test,Y_test)  = imdb.load_data(num_words = num_words)"
   ]
  },
  {
   "cell_type": "code",
   "execution_count": 44,
   "metadata": {},
   "outputs": [
    {
     "name": "stdout",
     "output_type": "stream",
     "text": [
      "[   0    0    0    0    0    0    0    0    0    0    0    0    0    0\n",
      "    0    0    0    0    0    0    0    0    0    0    0    0    0    0\n",
      "    0    0    0    0    0    0    0    0    0    0    0    0    0    0\n",
      "    0    0    0    0    0    0    0    0    0    0    0    0    0    0\n",
      "    0    0    0    0    0    0    0    0    0    0    0    0    0    0\n",
      "    0    0    0    0    0    0    0    0    0    0    0    0    0    0\n",
      "    0    0    0    1  778  128   74   12  630  163   15    4 1766 7982\n",
      " 1051    2   32   85  156   45   40  148  139  121  664  665   10   10\n",
      " 1361  173    4  749    2   16 3804    8    4  226   65   12   43  127\n",
      "   24    2   10   10]\n"
     ]
    }
   ],
   "source": [
    "#yıorumları maksimum 130 krlime ile sınırlandıracağız\n",
    "#tekrarlanan sinir ağında girdinin boyutu sabit olmalı;bu nedenle yaptık\n",
    "maxlen=130\n",
    "X_train = pad_sequences(X_train,maxlen = maxlen)\n",
    "X_test = pad_sequences(X_test,maxlen = maxlen)\n",
    "\n",
    "print(X_train[5])"
   ]
  },
  {
   "cell_type": "markdown",
   "metadata": {},
   "source": [
    "TEKRARLANAN SİNİR AĞI OLUŞTURMA                \n",
    "     iki farklı etiket olduğu için sigmoid fonksiyonu kullanalım."
   ]
  },
  {
   "cell_type": "code",
   "execution_count": 49,
   "metadata": {},
   "outputs": [
    {
     "name": "stdout",
     "output_type": "stream",
     "text": [
      "_________________________________________________________________\n",
      "Layer (type)                 Output Shape              Param #   \n",
      "=================================================================\n",
      "embedding_2 (Embedding)      (None, 130, 32)           480000    \n",
      "_________________________________________________________________\n",
      "simple_rnn_2 (SimpleRNN)     (None, 16)                784       \n",
      "_________________________________________________________________\n",
      "dense_1 (Dense)              (None, 1)                 17        \n",
      "_________________________________________________________________\n",
      "activation_1 (Activation)    (None, 1)                 0         \n",
      "=================================================================\n",
      "Total params: 480,801\n",
      "Trainable params: 480,801\n",
      "Non-trainable params: 0\n",
      "_________________________________________________________________\n",
      "None\n"
     ]
    }
   ],
   "source": [
    "rnn = Sequential()\n",
    "#Embedding : pozitif tam sayıları (dizinler) sabit boyutlu yoğun vektörlere dönüştürüyor\n",
    "rnn.add(Embedding(num_words,32,input_length=len(X_train[0])))\n",
    "rnn.add(SimpleRNN(16,input_shape = (num_words,maxlen),\n",
    "                 return_sequences = False,activation = \"relu\"))\n",
    "\n",
    "rnn.add(Dense(1))\n",
    "rnn.add(Activation(\"sigmoid\"))\n",
    "print(rnn.summary())"
   ]
  },
  {
   "cell_type": "code",
   "execution_count": 80,
   "metadata": {},
   "outputs": [],
   "source": [
    "#modeli derleyelim\n",
    "rnn.compile(loss=\"binary_crossentropy\",\n",
    "           optimizer=\"adam\",\n",
    "           metrics =[\"accuracy\"])"
   ]
  },
  {
   "cell_type": "code",
   "execution_count": 81,
   "metadata": {},
   "outputs": [
    {
     "name": "stdout",
     "output_type": "stream",
     "text": [
      "Train on 25000 samples, validate on 25000 samples\n",
      "Epoch 1/5\n",
      "25000/25000 [==============================] - 11s 449us/step - loss: 0.0141 - acc: 0.9957 - val_loss: 1.0709 - val_acc: 0.8154\n",
      "Epoch 2/5\n",
      "25000/25000 [==============================] - 12s 484us/step - loss: 0.0377 - acc: 0.9887 - val_loss: 1.1644 - val_acc: 0.8034\n",
      "Epoch 3/5\n",
      "25000/25000 [==============================] - 12s 474us/step - loss: 0.0197 - acc: 0.9942 - val_loss: 1.0348 - val_acc: 0.8181\n",
      "Epoch 4/5\n",
      "25000/25000 [==============================] - 12s 487us/step - loss: 0.0178 - acc: 0.9951 - val_loss: 1.0260 - val_acc: 0.8175\n",
      "Epoch 5/5\n",
      "25000/25000 [==============================] - 13s 503us/step - loss: 0.0060 - acc: 0.9985 - val_loss: 1.2526 - val_acc: 0.8160\n"
     ]
    }
   ],
   "source": [
    "#Eğitim\n",
    "history = rnn.fit(X_train,Y_train ,validation_data = (X_test,Y_test),epochs=5,batch_size= 128,verbose =1)"
   ]
  },
  {
   "cell_type": "code",
   "execution_count": 84,
   "metadata": {},
   "outputs": [
    {
     "name": "stdout",
     "output_type": "stream",
     "text": [
      "25000/25000 [==============================] - 6s 259us/step\n",
      "Test Doğruluk : %  81.604\n"
     ]
    }
   ],
   "source": [
    "dogruluk = rnn.evaluate(X_test,Y_test)\n",
    "print(\"Test Doğruluk : % \",dogruluk[1]*100)"
   ]
  },
  {
   "cell_type": "markdown",
   "metadata": {},
   "source": [
    "Sonuçların Değerlendirilmesi"
   ]
  },
  {
   "cell_type": "code",
   "execution_count": 85,
   "metadata": {},
   "outputs": [
    {
     "data": {
      "image/png": "[encoded data removed]",
      "text/plain": [
       "<Figure size 432x288 with 1 Axes>"
      ]
     },
     "metadata": {},
     "output_type": "display_data"
    }
   ],
   "source": [
    "plt.figure()\n",
    "plt.plot(history.history[\"acc\"],label =\"Eğitim\")\n",
    "plt.plot(history.history[\"val_acc\"],label =\"Test\")\n",
    "\n",
    "plt.title(\"Doğruluk\")\n",
    "plt.ylabel(\"Doğruluk\")\n",
    "plt.xlabel(\"İterasyon\")\n",
    "plt.legend()\n",
    "plt.show()\n"
   ]
  },
  {
   "cell_type": "code",
   "execution_count": 86,
   "metadata": {},
   "outputs": [
    {
     "data": {
      "image/png": "[encoded data removed]",
      "text/plain": [
       "<Figure size 432x288 with 1 Axes>"
      ]
     },
     "metadata": {},
     "output_type": "display_data"
    }
   ],
   "source": [
    "plt.figure()\n",
    "plt.plot(history.history[\"loss\"],label =\"Eğitim\")\n",
    "plt.plot(history.history[\"val_loss\"],label =\"Test\")\n",
    "\n",
    "plt.title(\"Maliyet\")\n",
    "plt.ylabel(\"Maliyet\")\n",
    "plt.xlabel(\"İterasyon\")\n",
    "plt.legend()\n",
    "plt.show()"
   ]
  }
 ],
 "metadata": {
  "kernelspec": {
   "display_name": "Python 3",
   "language": "python",
   "name": "python3"
  },
  "language_info": {
   "codemirror_mode": {
    "name": "ipython",
    "version": 3
   },
   "file_extension": ".py",
   "mimetype": "text/x-python",
   "name": "python",
   "nbconvert_exporter": "python",
   "pygments_lexer": "ipython3",
   "version": "3.5.5"
  }
 },
 "nbformat": 4,
 "nbformat_minor": 2
}
